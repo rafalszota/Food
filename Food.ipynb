{
 "cells": [
  {
   "cell_type": "markdown",
   "metadata": {},
   "source": [
    "# Machine learning - Food\n",
    "\n",
    "Agarro 6 platos comibinados y busco como se parecen."
   ]
  },
  {
   "cell_type": "code",
   "execution_count": 135,
   "metadata": {
    "collapsed": true
   },
   "outputs": [],
   "source": [
    "%matplotlib inline\n",
    "import pandas as pd\n",
    "import numpy as np\n",
    "import matplotlib.pyplot as plt\n",
    "from sklearn.cluster import KMeans"
   ]
  },
  {
   "cell_type": "code",
   "execution_count": 299,
   "metadata": {
    "collapsed": false
   },
   "outputs": [],
   "source": [
    "with open('data.txt') as f: dishes = f.readlines()\n",
    "dishes = [dish.replace(\"\\n\", \"\") for dish in dishes]"
   ]
  },
  {
   "cell_type": "markdown",
   "metadata": {},
   "source": [
    "### Como son nuestros platos?"
   ]
  },
  {
   "cell_type": "code",
   "execution_count": 300,
   "metadata": {
    "collapsed": false
   },
   "outputs": [
    {
     "data": {
      "text/plain": [
       "['plato combinado 1: pollo, patata, pimiento',\n",
       " 'plato combinado 2: lomo, huevo, patata, pimiento',\n",
       " 'plato combinado 3: pechugas, huevo, patata, pimiento',\n",
       " 'plato combinado 4: ternera, huevo, patata, pimiento',\n",
       " 'plato combinado 5: asado variado, pimiento verde, pimiento rojo, pechuga pollo, ternera, lomo, patata',\n",
       " 'plato combinado 6: asado completo, pimiento verde, pimiento rojo, pechuga pollo, ternera, lomo, morcilla, txistorra, patata']"
      ]
     },
     "execution_count": 300,
     "metadata": {},
     "output_type": "execute_result"
    }
   ],
   "source": [
    "dishes"
   ]
  },
  {
   "cell_type": "markdown",
   "metadata": {},
   "source": [
    "### Convertimos en la matriz de ingredientes\n",
    "\n",
    "No es muy eficiente. Me da igual por ahora es para probar la idea."
   ]
  },
  {
   "cell_type": "code",
   "execution_count": 301,
   "metadata": {
    "collapsed": false
   },
   "outputs": [],
   "source": [
    "names, ingredients = zip(*[(dish.split(\":\")[0], dish.split(\":\")[1].split(\",\")) for dish in dishes])\n",
    "unique_ingredients= pd.Series(list(set(x for l in ingredients for x in l)))\n",
    "\n",
    "\n",
    "def f(phrase) : return [sum(x) for x in zip(*[w==unique_ingredients for w in phrase])]\n",
    "df = pd.DataFrame([f(ingredient) for ingredient in ingredients], index = names, columns = unique_ingredients)\n"
   ]
  },
  {
   "cell_type": "markdown",
   "metadata": {},
   "source": [
    "La matriz quedaria algo asi:"
   ]
  },
  {
   "cell_type": "code",
   "execution_count": 304,
   "metadata": {
    "collapsed": false
   },
   "outputs": [
    {
     "data": {
      "text/html": [
       "<div>\n",
       "<table border=\"1\" class=\"dataframe\">\n",
       "  <thead>\n",
       "    <tr style=\"text-align: right;\">\n",
       "      <th></th>\n",
       "      <th>pollo</th>\n",
       "      <th>asado variado</th>\n",
       "      <th>pimiento verde</th>\n",
       "      <th>asado completo</th>\n",
       "      <th>pechugas</th>\n",
       "      <th>pimiento</th>\n",
       "      <th>huevo</th>\n",
       "      <th>ternera</th>\n",
       "      <th>patata</th>\n",
       "      <th>txistorra</th>\n",
       "      <th>pechuga pollo</th>\n",
       "      <th>morcilla</th>\n",
       "      <th>pimiento rojo</th>\n",
       "      <th>lomo</th>\n",
       "    </tr>\n",
       "  </thead>\n",
       "  <tbody>\n",
       "    <tr>\n",
       "      <th>plato combinado 1</th>\n",
       "      <td>1</td>\n",
       "      <td>0</td>\n",
       "      <td>0</td>\n",
       "      <td>0</td>\n",
       "      <td>0</td>\n",
       "      <td>1</td>\n",
       "      <td>0</td>\n",
       "      <td>0</td>\n",
       "      <td>1</td>\n",
       "      <td>0</td>\n",
       "      <td>0</td>\n",
       "      <td>0</td>\n",
       "      <td>0</td>\n",
       "      <td>0</td>\n",
       "    </tr>\n",
       "    <tr>\n",
       "      <th>plato combinado 2</th>\n",
       "      <td>0</td>\n",
       "      <td>0</td>\n",
       "      <td>0</td>\n",
       "      <td>0</td>\n",
       "      <td>0</td>\n",
       "      <td>1</td>\n",
       "      <td>1</td>\n",
       "      <td>0</td>\n",
       "      <td>1</td>\n",
       "      <td>0</td>\n",
       "      <td>0</td>\n",
       "      <td>0</td>\n",
       "      <td>0</td>\n",
       "      <td>1</td>\n",
       "    </tr>\n",
       "    <tr>\n",
       "      <th>plato combinado 3</th>\n",
       "      <td>0</td>\n",
       "      <td>0</td>\n",
       "      <td>0</td>\n",
       "      <td>0</td>\n",
       "      <td>1</td>\n",
       "      <td>1</td>\n",
       "      <td>1</td>\n",
       "      <td>0</td>\n",
       "      <td>1</td>\n",
       "      <td>0</td>\n",
       "      <td>0</td>\n",
       "      <td>0</td>\n",
       "      <td>0</td>\n",
       "      <td>0</td>\n",
       "    </tr>\n",
       "    <tr>\n",
       "      <th>plato combinado 4</th>\n",
       "      <td>0</td>\n",
       "      <td>0</td>\n",
       "      <td>0</td>\n",
       "      <td>0</td>\n",
       "      <td>0</td>\n",
       "      <td>1</td>\n",
       "      <td>1</td>\n",
       "      <td>1</td>\n",
       "      <td>1</td>\n",
       "      <td>0</td>\n",
       "      <td>0</td>\n",
       "      <td>0</td>\n",
       "      <td>0</td>\n",
       "      <td>0</td>\n",
       "    </tr>\n",
       "    <tr>\n",
       "      <th>plato combinado 5</th>\n",
       "      <td>0</td>\n",
       "      <td>1</td>\n",
       "      <td>1</td>\n",
       "      <td>0</td>\n",
       "      <td>0</td>\n",
       "      <td>0</td>\n",
       "      <td>0</td>\n",
       "      <td>1</td>\n",
       "      <td>1</td>\n",
       "      <td>0</td>\n",
       "      <td>1</td>\n",
       "      <td>0</td>\n",
       "      <td>1</td>\n",
       "      <td>1</td>\n",
       "    </tr>\n",
       "    <tr>\n",
       "      <th>plato combinado 6</th>\n",
       "      <td>0</td>\n",
       "      <td>0</td>\n",
       "      <td>1</td>\n",
       "      <td>1</td>\n",
       "      <td>0</td>\n",
       "      <td>0</td>\n",
       "      <td>0</td>\n",
       "      <td>1</td>\n",
       "      <td>1</td>\n",
       "      <td>1</td>\n",
       "      <td>1</td>\n",
       "      <td>1</td>\n",
       "      <td>1</td>\n",
       "      <td>1</td>\n",
       "    </tr>\n",
       "  </tbody>\n",
       "</table>\n",
       "</div>"
      ],
      "text/plain": [
       "                    pollo   asado variado   pimiento verde   asado completo  \\\n",
       "plato combinado 1       1               0                0                0   \n",
       "plato combinado 2       0               0                0                0   \n",
       "plato combinado 3       0               0                0                0   \n",
       "plato combinado 4       0               0                0                0   \n",
       "plato combinado 5       0               1                1                0   \n",
       "plato combinado 6       0               0                1                1   \n",
       "\n",
       "                    pechugas   pimiento   huevo   ternera   patata  \\\n",
       "plato combinado 1          0          1       0         0        1   \n",
       "plato combinado 2          0          1       1         0        1   \n",
       "plato combinado 3          1          1       1         0        1   \n",
       "plato combinado 4          0          1       1         1        1   \n",
       "plato combinado 5          0          0       0         1        1   \n",
       "plato combinado 6          0          0       0         1        1   \n",
       "\n",
       "                    txistorra   pechuga pollo   morcilla   pimiento rojo  \\\n",
       "plato combinado 1           0               0          0               0   \n",
       "plato combinado 2           0               0          0               0   \n",
       "plato combinado 3           0               0          0               0   \n",
       "plato combinado 4           0               0          0               0   \n",
       "plato combinado 5           0               1          0               1   \n",
       "plato combinado 6           1               1          1               1   \n",
       "\n",
       "                    lomo  \n",
       "plato combinado 1      0  \n",
       "plato combinado 2      1  \n",
       "plato combinado 3      0  \n",
       "plato combinado 4      0  \n",
       "plato combinado 5      1  \n",
       "plato combinado 6      1  "
      ]
     },
     "execution_count": 304,
     "metadata": {},
     "output_type": "execute_result"
    }
   ],
   "source": [
    "df"
   ]
  },
  {
   "cell_type": "markdown",
   "metadata": {},
   "source": [
    "### Machine Learning\n",
    "\n",
    "Ahora podemos jugar con el machine learning. Usamos el K-means por ejemplo y miramos que platos se parecen. \n",
    "Queremos tener ```n_clusters=3``` grupos."
   ]
  },
  {
   "cell_type": "code",
   "execution_count": 306,
   "metadata": {
    "collapsed": false
   },
   "outputs": [
    {
     "data": {
      "text/html": [
       "<div>\n",
       "<table border=\"1\" class=\"dataframe\">\n",
       "  <thead>\n",
       "    <tr style=\"text-align: right;\">\n",
       "      <th></th>\n",
       "      <th>name</th>\n",
       "    </tr>\n",
       "    <tr>\n",
       "      <th>group</th>\n",
       "      <th></th>\n",
       "    </tr>\n",
       "  </thead>\n",
       "  <tbody>\n",
       "    <tr>\n",
       "      <th>0</th>\n",
       "      <td>plato combinado 5</td>\n",
       "    </tr>\n",
       "    <tr>\n",
       "      <th>1</th>\n",
       "      <td>plato combinado 1</td>\n",
       "    </tr>\n",
       "    <tr>\n",
       "      <th>1</th>\n",
       "      <td>plato combinado 2</td>\n",
       "    </tr>\n",
       "    <tr>\n",
       "      <th>1</th>\n",
       "      <td>plato combinado 3</td>\n",
       "    </tr>\n",
       "    <tr>\n",
       "      <th>1</th>\n",
       "      <td>plato combinado 4</td>\n",
       "    </tr>\n",
       "    <tr>\n",
       "      <th>2</th>\n",
       "      <td>plato combinado 6</td>\n",
       "    </tr>\n",
       "  </tbody>\n",
       "</table>\n",
       "</div>"
      ],
      "text/plain": [
       "                    name\n",
       "group                   \n",
       "0      plato combinado 5\n",
       "1      plato combinado 1\n",
       "1      plato combinado 2\n",
       "1      plato combinado 3\n",
       "1      plato combinado 4\n",
       "2      plato combinado 6"
      ]
     },
     "execution_count": 306,
     "metadata": {},
     "output_type": "execute_result"
    }
   ],
   "source": [
    "kmeans = KMeans(n_clusters=3, random_state=0).fit(df)\n",
    "gropped_dishes = pd.DataFrame({\"name\": names, \"group\": kmeans.labels_})\n",
    "gropped_dishes = gropped_dishes.sort_values(\"group\")\n",
    "gropped_dishes.set_index(\"group\")"
   ]
  },
  {
   "cell_type": "markdown",
   "metadata": {},
   "source": [
    "Los platos 1-4 se parecen, 5 es distinto y el 6 es distino."
   ]
  },
  {
   "cell_type": "markdown",
   "metadata": {},
   "source": [
    "### Como se parecen?\n",
    "\n",
    "Distancia entre los platos se basa en numero de ingredientes compartidos"
   ]
  },
  {
   "cell_type": "code",
   "execution_count": 307,
   "metadata": {
    "collapsed": false
   },
   "outputs": [],
   "source": [
    "def distance(word) : \n",
    "    l = df[df[word]==1].sum()\n",
    "    return round(l / l.max(),2)\n"
   ]
  },
  {
   "cell_type": "markdown",
   "metadata": {},
   "source": [
    "Esto para luego..."
   ]
  },
  {
   "cell_type": "code",
   "execution_count": 309,
   "metadata": {
    "collapsed": false
   },
   "outputs": [],
   "source": [
    "#distance_matrix = pd.DataFrame([distance(word) for word in words], index=words)\n",
    "#plt.pcolor(distance_matrix, cmap=plt.cm.Reds)\n",
    "#plt.show()\n"
   ]
  }
 ],
 "metadata": {
  "kernelspec": {
   "display_name": "Python 3",
   "language": "python",
   "name": "python3"
  },
  "language_info": {
   "codemirror_mode": {
    "name": "ipython",
    "version": 3
   },
   "file_extension": ".py",
   "mimetype": "text/x-python",
   "name": "python",
   "nbconvert_exporter": "python",
   "pygments_lexer": "ipython3",
   "version": "3.6.0"
  }
 },
 "nbformat": 4,
 "nbformat_minor": 2
}
