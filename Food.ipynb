{
 "cells": [
  {
   "cell_type": "markdown",
   "metadata": {},
   "source": [
    "# Machine learning - Food\n",
    "\n",
    "Agarro 6 platos comibinados y busco como se parecen."
   ]
  },
  {
   "cell_type": "code",
   "execution_count": 322,
   "metadata": {
    "collapsed": false
   },
   "outputs": [],
   "source": [
    "%matplotlib inline\n",
    "import pandas as pd\n",
    "import numpy as np\n",
    "import matplotlib.pyplot as plt\n",
    "import scipy.spatial.distance as dist\n",
    "from sklearn.cluster import KMeans\n"
   ]
  },
  {
   "cell_type": "code",
   "execution_count": 312,
   "metadata": {
    "collapsed": false
   },
   "outputs": [],
   "source": [
    "with open('data.txt') as f: dishes = f.readlines()\n",
    "dishes = [dish.replace(\"\\n\", \"\") for dish in dishes]"
   ]
  },
  {
   "cell_type": "markdown",
   "metadata": {},
   "source": [
    "### Como son nuestros platos?"
   ]
  },
  {
   "cell_type": "code",
   "execution_count": 300,
   "metadata": {
    "collapsed": false
   },
   "outputs": [
    {
     "data": {
      "text/plain": [
       "['plato combinado 1: pollo, patata, pimiento',\n",
       " 'plato combinado 2: lomo, huevo, patata, pimiento',\n",
       " 'plato combinado 3: pechugas, huevo, patata, pimiento',\n",
       " 'plato combinado 4: ternera, huevo, patata, pimiento',\n",
       " 'plato combinado 5: asado variado, pimiento verde, pimiento rojo, pechuga pollo, ternera, lomo, patata',\n",
       " 'plato combinado 6: asado completo, pimiento verde, pimiento rojo, pechuga pollo, ternera, lomo, morcilla, txistorra, patata']"
      ]
     },
     "execution_count": 300,
     "metadata": {},
     "output_type": "execute_result"
    }
   ],
   "source": [
    "dishes"
   ]
  },
  {
   "cell_type": "markdown",
   "metadata": {},
   "source": [
    "### Convertimos en la matriz de ingredientes\n",
    "\n",
    "No es muy eficiente. Me da igual por ahora es para probar la idea."
   ]
  },
  {
   "cell_type": "code",
   "execution_count": 301,
   "metadata": {
    "collapsed": false
   },
   "outputs": [],
   "source": [
    "names, ingredients = zip(*[(dish.split(\":\")[0], dish.split(\":\")[1].split(\",\")) for dish in dishes])\n",
    "unique_ingredients= pd.Series(list(set(x for l in ingredients for x in l)))\n",
    "\n",
    "\n",
    "def f(phrase) : return [sum(x) for x in zip(*[w==unique_ingredients for w in phrase])]\n",
    "df = pd.DataFrame([f(ingredient) for ingredient in ingredients], index = names, columns = unique_ingredients)\n"
   ]
  },
  {
   "cell_type": "markdown",
   "metadata": {},
   "source": [
    "La matriz quedaria algo asi:"
   ]
  },
  {
   "cell_type": "code",
   "execution_count": 304,
   "metadata": {
    "collapsed": false
   },
   "outputs": [
    {
     "data": {
      "text/html": [
       "<div>\n",
       "<table border=\"1\" class=\"dataframe\">\n",
       "  <thead>\n",
       "    <tr style=\"text-align: right;\">\n",
       "      <th></th>\n",
       "      <th>pollo</th>\n",
       "      <th>asado variado</th>\n",
       "      <th>pimiento verde</th>\n",
       "      <th>asado completo</th>\n",
       "      <th>pechugas</th>\n",
       "      <th>pimiento</th>\n",
       "      <th>huevo</th>\n",
       "      <th>ternera</th>\n",
       "      <th>patata</th>\n",
       "      <th>txistorra</th>\n",
       "      <th>pechuga pollo</th>\n",
       "      <th>morcilla</th>\n",
       "      <th>pimiento rojo</th>\n",
       "      <th>lomo</th>\n",
       "    </tr>\n",
       "  </thead>\n",
       "  <tbody>\n",
       "    <tr>\n",
       "      <th>plato combinado 1</th>\n",
       "      <td>1</td>\n",
       "      <td>0</td>\n",
       "      <td>0</td>\n",
       "      <td>0</td>\n",
       "      <td>0</td>\n",
       "      <td>1</td>\n",
       "      <td>0</td>\n",
       "      <td>0</td>\n",
       "      <td>1</td>\n",
       "      <td>0</td>\n",
       "      <td>0</td>\n",
       "      <td>0</td>\n",
       "      <td>0</td>\n",
       "      <td>0</td>\n",
       "    </tr>\n",
       "    <tr>\n",
       "      <th>plato combinado 2</th>\n",
       "      <td>0</td>\n",
       "      <td>0</td>\n",
       "      <td>0</td>\n",
       "      <td>0</td>\n",
       "      <td>0</td>\n",
       "      <td>1</td>\n",
       "      <td>1</td>\n",
       "      <td>0</td>\n",
       "      <td>1</td>\n",
       "      <td>0</td>\n",
       "      <td>0</td>\n",
       "      <td>0</td>\n",
       "      <td>0</td>\n",
       "      <td>1</td>\n",
       "    </tr>\n",
       "    <tr>\n",
       "      <th>plato combinado 3</th>\n",
       "      <td>0</td>\n",
       "      <td>0</td>\n",
       "      <td>0</td>\n",
       "      <td>0</td>\n",
       "      <td>1</td>\n",
       "      <td>1</td>\n",
       "      <td>1</td>\n",
       "      <td>0</td>\n",
       "      <td>1</td>\n",
       "      <td>0</td>\n",
       "      <td>0</td>\n",
       "      <td>0</td>\n",
       "      <td>0</td>\n",
       "      <td>0</td>\n",
       "    </tr>\n",
       "    <tr>\n",
       "      <th>plato combinado 4</th>\n",
       "      <td>0</td>\n",
       "      <td>0</td>\n",
       "      <td>0</td>\n",
       "      <td>0</td>\n",
       "      <td>0</td>\n",
       "      <td>1</td>\n",
       "      <td>1</td>\n",
       "      <td>1</td>\n",
       "      <td>1</td>\n",
       "      <td>0</td>\n",
       "      <td>0</td>\n",
       "      <td>0</td>\n",
       "      <td>0</td>\n",
       "      <td>0</td>\n",
       "    </tr>\n",
       "    <tr>\n",
       "      <th>plato combinado 5</th>\n",
       "      <td>0</td>\n",
       "      <td>1</td>\n",
       "      <td>1</td>\n",
       "      <td>0</td>\n",
       "      <td>0</td>\n",
       "      <td>0</td>\n",
       "      <td>0</td>\n",
       "      <td>1</td>\n",
       "      <td>1</td>\n",
       "      <td>0</td>\n",
       "      <td>1</td>\n",
       "      <td>0</td>\n",
       "      <td>1</td>\n",
       "      <td>1</td>\n",
       "    </tr>\n",
       "    <tr>\n",
       "      <th>plato combinado 6</th>\n",
       "      <td>0</td>\n",
       "      <td>0</td>\n",
       "      <td>1</td>\n",
       "      <td>1</td>\n",
       "      <td>0</td>\n",
       "      <td>0</td>\n",
       "      <td>0</td>\n",
       "      <td>1</td>\n",
       "      <td>1</td>\n",
       "      <td>1</td>\n",
       "      <td>1</td>\n",
       "      <td>1</td>\n",
       "      <td>1</td>\n",
       "      <td>1</td>\n",
       "    </tr>\n",
       "  </tbody>\n",
       "</table>\n",
       "</div>"
      ],
      "text/plain": [
       "                    pollo   asado variado   pimiento verde   asado completo  \\\n",
       "plato combinado 1       1               0                0                0   \n",
       "plato combinado 2       0               0                0                0   \n",
       "plato combinado 3       0               0                0                0   \n",
       "plato combinado 4       0               0                0                0   \n",
       "plato combinado 5       0               1                1                0   \n",
       "plato combinado 6       0               0                1                1   \n",
       "\n",
       "                    pechugas   pimiento   huevo   ternera   patata  \\\n",
       "plato combinado 1          0          1       0         0        1   \n",
       "plato combinado 2          0          1       1         0        1   \n",
       "plato combinado 3          1          1       1         0        1   \n",
       "plato combinado 4          0          1       1         1        1   \n",
       "plato combinado 5          0          0       0         1        1   \n",
       "plato combinado 6          0          0       0         1        1   \n",
       "\n",
       "                    txistorra   pechuga pollo   morcilla   pimiento rojo  \\\n",
       "plato combinado 1           0               0          0               0   \n",
       "plato combinado 2           0               0          0               0   \n",
       "plato combinado 3           0               0          0               0   \n",
       "plato combinado 4           0               0          0               0   \n",
       "plato combinado 5           0               1          0               1   \n",
       "plato combinado 6           1               1          1               1   \n",
       "\n",
       "                    lomo  \n",
       "plato combinado 1      0  \n",
       "plato combinado 2      1  \n",
       "plato combinado 3      0  \n",
       "plato combinado 4      0  \n",
       "plato combinado 5      1  \n",
       "plato combinado 6      1  "
      ]
     },
     "execution_count": 304,
     "metadata": {},
     "output_type": "execute_result"
    }
   ],
   "source": [
    "df"
   ]
  },
  {
   "cell_type": "markdown",
   "metadata": {},
   "source": [
    "### Machine Learning\n",
    "\n",
    "Ahora podemos jugar con el machine learning. Usamos el K-means por ejemplo y miramos que platos se parecen. \n",
    "Queremos tener ```n_clusters=3``` grupos."
   ]
  },
  {
   "cell_type": "code",
   "execution_count": 306,
   "metadata": {
    "collapsed": false
   },
   "outputs": [
    {
     "data": {
      "text/html": [
       "<div>\n",
       "<table border=\"1\" class=\"dataframe\">\n",
       "  <thead>\n",
       "    <tr style=\"text-align: right;\">\n",
       "      <th></th>\n",
       "      <th>name</th>\n",
       "    </tr>\n",
       "    <tr>\n",
       "      <th>group</th>\n",
       "      <th></th>\n",
       "    </tr>\n",
       "  </thead>\n",
       "  <tbody>\n",
       "    <tr>\n",
       "      <th>0</th>\n",
       "      <td>plato combinado 5</td>\n",
       "    </tr>\n",
       "    <tr>\n",
       "      <th>1</th>\n",
       "      <td>plato combinado 1</td>\n",
       "    </tr>\n",
       "    <tr>\n",
       "      <th>1</th>\n",
       "      <td>plato combinado 2</td>\n",
       "    </tr>\n",
       "    <tr>\n",
       "      <th>1</th>\n",
       "      <td>plato combinado 3</td>\n",
       "    </tr>\n",
       "    <tr>\n",
       "      <th>1</th>\n",
       "      <td>plato combinado 4</td>\n",
       "    </tr>\n",
       "    <tr>\n",
       "      <th>2</th>\n",
       "      <td>plato combinado 6</td>\n",
       "    </tr>\n",
       "  </tbody>\n",
       "</table>\n",
       "</div>"
      ],
      "text/plain": [
       "                    name\n",
       "group                   \n",
       "0      plato combinado 5\n",
       "1      plato combinado 1\n",
       "1      plato combinado 2\n",
       "1      plato combinado 3\n",
       "1      plato combinado 4\n",
       "2      plato combinado 6"
      ]
     },
     "execution_count": 306,
     "metadata": {},
     "output_type": "execute_result"
    }
   ],
   "source": [
    "kmeans = KMeans(n_clusters=3, random_state=0).fit(df)\n",
    "gropped_dishes = pd.DataFrame({\"name\": names, \"group\": kmeans.labels_})\n",
    "gropped_dishes = gropped_dishes.sort_values(\"group\")\n",
    "gropped_dishes.set_index(\"group\")"
   ]
  },
  {
   "cell_type": "markdown",
   "metadata": {},
   "source": [
    "Los platos 1-4 se parecen, 5 es distinto y el 6 es distino."
   ]
  },
  {
   "cell_type": "markdown",
   "metadata": {},
   "source": [
    "### Como se parecen?\n",
    "\n",
    "Para calcular la 'pareciencia' entre los platos de momento solo utilizo los ingredientes que le componen. Hacemos la distancia de *yule* que definimos de tal manera:\n",
    "\n",
    "Sea $v$ vector binario que nos dice si un plato lleva un ingrediente o no. La intuicion:\n",
    "- Decimos que los dos platos son iguales si llevan los mismos ingredientes. \n",
    "- Decimos que los platos se parecen si los ingredientes que llevan coinciden bastante. \n",
    "- Decimos que los platos son muy distintos si comparten muy pocos ingredientes. \n",
    "\n",
    "La distancia entre plato $i$ e $j$ definimos formalmente como:\n",
    "\n",
    "$$ \n",
    "distancia_{i,j} = 1 - \\lVert  \\frac{2(\\text{numero_de_ingredientes_que_no_comparten})}{\\text{numero_total_de_ingredientes}} \\rVert  = 1 - \\lVert yule.distance_{i,j} \\rVert \n",
    "$$\n",
    "\n",
    "Lo que en codigo seria algo que usa paquete *spatial* de la libreria *scipy*\n",
    "\n"
   ]
  },
  {
   "cell_type": "code",
   "execution_count": 350,
   "metadata": {
    "collapsed": false
   },
   "outputs": [],
   "source": [
    "Y = dist.squareform(dist.pdist(np.matrix(df), 'yule'))\n",
    "dish_similarity = pd.DataFrame((1 - Y / Y.max()).round(2), index=names, columns=names)"
   ]
  },
  {
   "cell_type": "markdown",
   "metadata": {},
   "source": [
    "Lo que nos va generar una matriz como esta:"
   ]
  },
  {
   "cell_type": "code",
   "execution_count": 354,
   "metadata": {
    "collapsed": false
   },
   "outputs": [
    {
     "data": {
      "text/html": [
       "<div>\n",
       "<table border=\"1\" class=\"dataframe\">\n",
       "  <thead>\n",
       "    <tr style=\"text-align: right;\">\n",
       "      <th></th>\n",
       "      <th>plato combinado 1</th>\n",
       "      <th>plato combinado 2</th>\n",
       "      <th>plato combinado 3</th>\n",
       "      <th>plato combinado 4</th>\n",
       "      <th>plato combinado 5</th>\n",
       "      <th>plato combinado 6</th>\n",
       "    </tr>\n",
       "  </thead>\n",
       "  <tbody>\n",
       "    <tr>\n",
       "      <th>plato combinado 1</th>\n",
       "      <td>1.00</td>\n",
       "      <td>0.89</td>\n",
       "      <td>0.89</td>\n",
       "      <td>0.89</td>\n",
       "      <td>0.24</td>\n",
       "      <td>0.09</td>\n",
       "    </tr>\n",
       "    <tr>\n",
       "      <th>plato combinado 2</th>\n",
       "      <td>0.89</td>\n",
       "      <td>1.00</td>\n",
       "      <td>0.96</td>\n",
       "      <td>0.96</td>\n",
       "      <td>0.46</td>\n",
       "      <td>0.24</td>\n",
       "    </tr>\n",
       "    <tr>\n",
       "      <th>plato combinado 3</th>\n",
       "      <td>0.89</td>\n",
       "      <td>0.96</td>\n",
       "      <td>1.00</td>\n",
       "      <td>0.96</td>\n",
       "      <td>0.11</td>\n",
       "      <td>0.00</td>\n",
       "    </tr>\n",
       "    <tr>\n",
       "      <th>plato combinado 4</th>\n",
       "      <td>0.89</td>\n",
       "      <td>0.96</td>\n",
       "      <td>0.96</td>\n",
       "      <td>1.00</td>\n",
       "      <td>0.46</td>\n",
       "      <td>0.24</td>\n",
       "    </tr>\n",
       "    <tr>\n",
       "      <th>plato combinado 5</th>\n",
       "      <td>0.24</td>\n",
       "      <td>0.46</td>\n",
       "      <td>0.11</td>\n",
       "      <td>0.46</td>\n",
       "      <td>1.00</td>\n",
       "      <td>0.88</td>\n",
       "    </tr>\n",
       "    <tr>\n",
       "      <th>plato combinado 6</th>\n",
       "      <td>0.09</td>\n",
       "      <td>0.24</td>\n",
       "      <td>0.00</td>\n",
       "      <td>0.24</td>\n",
       "      <td>0.88</td>\n",
       "      <td>1.00</td>\n",
       "    </tr>\n",
       "  </tbody>\n",
       "</table>\n",
       "</div>"
      ],
      "text/plain": [
       "                   plato combinado 1  plato combinado 2  plato combinado 3  \\\n",
       "plato combinado 1               1.00               0.89               0.89   \n",
       "plato combinado 2               0.89               1.00               0.96   \n",
       "plato combinado 3               0.89               0.96               1.00   \n",
       "plato combinado 4               0.89               0.96               0.96   \n",
       "plato combinado 5               0.24               0.46               0.11   \n",
       "plato combinado 6               0.09               0.24               0.00   \n",
       "\n",
       "                   plato combinado 4  plato combinado 5  plato combinado 6  \n",
       "plato combinado 1               0.89               0.24               0.09  \n",
       "plato combinado 2               0.96               0.46               0.24  \n",
       "plato combinado 3               0.96               0.11               0.00  \n",
       "plato combinado 4               1.00               0.46               0.24  \n",
       "plato combinado 5               0.46               1.00               0.88  \n",
       "plato combinado 6               0.24               0.88               1.00  "
      ]
     },
     "execution_count": 354,
     "metadata": {},
     "output_type": "execute_result"
    }
   ],
   "source": [
    "dish_similarity"
   ]
  },
  {
   "cell_type": "markdown",
   "metadata": {},
   "source": [
    "Asi que podemos dibujar el heatmap y ver que efectivamente los platos 1-4 se parecen mucho, y los 5-6 dos se parecen mas entere ellos per un poco menos. \n",
    "\n",
    "Lo bueno que esto es coherente con con el algoritmo de *K-means* y nuestra intuicion."
   ]
  },
  {
   "cell_type": "code",
   "execution_count": 356,
   "metadata": {
    "collapsed": false
   },
   "outputs": [
    {
     "data": {
      "image/png": "[encoded data removed]",
      "text/plain": [
       "<matplotlib.figure.Figure at 0x11c7260b8>"
      ]
     },
     "metadata": {},
     "output_type": "display_data"
    }
   ],
   "source": [
    "plt.pcolor(dish_similarity, cmap=plt.cm.Reds)\n",
    "plt.show()"
   ]
  },
  {
   "cell_type": "markdown",
   "metadata": {},
   "source": [
    "### Ideas para luego...\n",
    "\n",
    "Hay que preguntarse porque criterios los dos platos se parecen?? Mi idea hasta ahora es:\n",
    "\n",
    "1. Tienen el mismo nombre \n",
    "2. Tienen ingredientes similares\n",
    "3. El metodo de coccion es el mismo (hervido, frito, al horno, etc.)\n",
    "\n",
    "Hay que hacer web scrapping de los webs de recetas para sacar esta infomacion y representarla como vectores binarios. A partir de alli tal como lo tenemos. Para el punto 3 mirate el concepto de dummy variables en estadistica.\n",
    "\n"
   ]
  },
  {
   "cell_type": "markdown",
   "metadata": {},
   "source": [
    "Yo lo visualizo asi: Desde python hacemos:\n",
    "\n",
    "``` \n",
    "HTTP GET http://donde.sea:9030/dishes/all \n",
    "\n",
    "HTTP RESPONSE: JSON \n",
    "[{\"name\":\"plato combinado 1\", \"ingredientes\": [\"pollo\", \"patata\", \"pimiento\"], \"method\": \"fried\"]}, {...}]\n",
    "\n",
    "```\n",
    "\n",
    "A partir de aqui lo convertimos en la matriz de ingredientes y seguimos tal como el PoC de arriba."
   ]
  },
  {
   "cell_type": "markdown",
   "metadata": {},
   "source": [
    "#### Otra cosa\n",
    "\n",
    "Hay que fitrar fuera los ingredientes mas comunes. Ejemplo: todos los platos llevan sal. Pues el hecho de llevar sal no me aporta informacion addicional asi que lo puedo quitar de mi matriz de ingredientes (al menos a efectos de pareciencia).\n"
   ]
  },
  {
   "cell_type": "markdown",
   "metadata": {},
   "source": [
    "#### Mañana monto un PoC como quitarlos..."
   ]
  },
  {
   "cell_type": "code",
   "execution_count": null,
   "metadata": {
    "collapsed": true
   },
   "outputs": [],
   "source": []
  }
 ],
 "metadata": {
  "kernelspec": {
   "display_name": "Python 3",
   "language": "python",
   "name": "python3"
  },
  "language_info": {
   "codemirror_mode": {
    "name": "ipython",
    "version": 3
   },
   "file_extension": ".py",
   "mimetype": "text/x-python",
   "name": "python",
   "nbconvert_exporter": "python",
   "pygments_lexer": "ipython3",
   "version": "3.6.0"
  }
 },
 "nbformat": 4,
 "nbformat_minor": 2
}
